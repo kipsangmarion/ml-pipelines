{
  "nbformat": 4,
  "nbformat_minor": 0,
  "metadata": {
    "colab": {
      "provenance": [],
      "authorship_tag": "ABX9TyNaVuAFHwRxYoMicJZtYa/e",
      "include_colab_link": true
    },
    "kernelspec": {
      "name": "python3",
      "display_name": "Python 3"
    },
    "language_info": {
      "name": "python"
    }
  },
  "cells": [
    {
      "cell_type": "markdown",
      "metadata": {
        "id": "view-in-github",
        "colab_type": "text"
      },
      "source": [
        "<a href=\"https://colab.research.google.com/github/kipsangmarion/ml-pipelines/blob/main/Example_Usage.ipynb\" target=\"_parent\"><img src=\"https://colab.research.google.com/assets/colab-badge.svg\" alt=\"Open In Colab\"/></a>"
      ]
    },
    {
      "cell_type": "markdown",
      "source": [
        "# 1. Classification Example"
      ],
      "metadata": {
        "id": "FutqS9am2SyY"
      }
    },
    {
      "cell_type": "code",
      "execution_count": 3,
      "metadata": {
        "id": "G0mwV5Ai0rCE"
      },
      "outputs": [],
      "source": [
        "import pandas as pd\n",
        "from sklearn.model_selection import train_test_split\n",
        "\n",
        "# Load the Iris dataset\n",
        "iris = pd.read_csv('https://bit.ly/3Sn7blU')\n",
        "\n",
        "# Extract features and labels\n",
        "iris_X = iris.drop('Species', axis=1)\n",
        "iris_y = iris['Species']\n",
        "\n",
        "# Split the dataset into training and testing sets\n",
        "X_train, X_test, y_train, y_test = train_test_split(iris_X, iris_y, test_size=0.2, random_state=42)"
      ]
    },
    {
      "cell_type": "code",
      "source": [
        "from sklearn.model_selection import GridSearchCV, cross_val_score\n",
        "from sklearn.ensemble import RandomForestClassifier, GradientBoostingClassifier, AdaBoostClassifier\n",
        "from sklearn.linear_model import LogisticRegression\n",
        "from sklearn.neighbors import KNeighborsClassifier\n",
        "from sklearn.svm import SVC\n",
        "from sklearn.tree import DecisionTreeClassifier\n",
        "from sklearn.metrics import accuracy_score\n",
        "import numpy as np\n",
        "\n",
        "# define classifiers\n",
        "classifiers = {\n",
        "    'Random Forest': RandomForestClassifier(),\n",
        "    'SVM': SVC(),\n",
        "    'K-Nearest Neighbors': KNeighborsClassifier(),\n",
        "    'Logistic Regression': LogisticRegression(),\n",
        "    'Decision Tree': DecisionTreeClassifier(),\n",
        "    'Gradient Boosting': GradientBoostingClassifier(),\n",
        "    'AdaBoost': AdaBoostClassifier()\n",
        "}\n",
        "\n",
        "# Define hyperparameter grids for each classifier\n",
        "param_grids = {\n",
        "    'Random Forest': {'n_estimators': [50, 100, 150], 'max_depth': [None, 10, 20, 30]},\n",
        "    'SVM': {'C': [0.1, 1, 10], 'kernel': ['linear', 'rbf']},\n",
        "    'K-Nearest Neighbors': {'n_neighbors': [3, 5, 7], 'weights': ['uniform', 'distance']},\n",
        "    'Logistic Regression': {'C': [0.1, 1, 10], 'penalty': ['l1', 'l2']},\n",
        "    'Decision Tree': {'max_depth': [None, 10, 20, 30], 'min_samples_split': [2, 5, 10]},\n",
        "    'Gradient Boosting': {'n_estimators': [50, 100, 150], 'learning_rate': [0.01, 0.1, 0.2]},\n",
        "    'AdaBoost': {'n_estimators': [50, 100, 150], 'learning_rate': [0.01, 0.1, 0.2]}\n",
        "}\n",
        "\n",
        "# Dictionary to store the best models\n",
        "best_models = {}\n",
        "\n",
        "# Perform GridSearchCV on each classifier\n",
        "for classifier_name, classifier in classifiers.items():\n",
        "    grid_search = GridSearchCV(classifier, param_grids[classifier_name], cv=5, scoring='accuracy', n_jobs=-1)\n",
        "\n",
        "    # fit to training dataset\n",
        "    # grid_search.fit(X_train, y_train)\n",
        "    grid_search.fit(X_train, y_train)\n",
        "\n",
        "    # Get the best model from Grid Search\n",
        "    best_model = grid_search.best_estimator_\n",
        "\n",
        "    # Perform cross-validation on best_model\n",
        "    # cv_scores = cross_val_score(best_model, X, y, cv=5, scoring='accuracy', n_jobs=-1)\n",
        "    cv_scores = cross_val_score(best_model, iris_X, iris_y, cv=5, scoring='accuracy', n_jobs=-1)\n",
        "\n",
        "    # Store the best model in the dictionary\n",
        "    best_models[classifier_name] = {\n",
        "        'model': best_model,\n",
        "        'cross_val_scores': cv_scores,\n",
        "        'mean_accuracy': np.mean(cv_scores),\n",
        "        'best_parameters': grid_search.best_params_\n",
        "    }\n",
        "\n",
        "# Select the best model based on mean cross-validation accuracy\n",
        "best_classifier = max(best_models, key=lambda k: best_models[k]['mean_accuracy'])\n",
        "\n",
        "# Print information about the best model\n",
        "print(f\"Best Classifier: {best_classifier}\")\n",
        "print(f\"Cross-Validation Scores: {best_models[best_classifier]['cross_val_scores']}\")\n",
        "print(f\"Mean Accuracy: {best_models[best_classifier]['mean_accuracy']:.4f}\")\n",
        "print(f\"Best Parameters: {best_models[best_classifier]['best_parameters']}\")"
      ],
      "metadata": {
        "id": "FScz1VBq2XmC"
      },
      "execution_count": null,
      "outputs": []
    },
    {
      "cell_type": "markdown",
      "source": [
        "# 2. Regression Example"
      ],
      "metadata": {
        "id": "nwiVr_vc3SNl"
      }
    },
    {
      "cell_type": "code",
      "source": [
        "# Load the dataset from the CSV URL\n",
        "from sklearn.impute import SimpleImputer\n",
        "\n",
        "boston_df = pd.read_csv('https://bit.ly/data_boston_housing')\n",
        "\n",
        "# Handle missing values using mean imputation.\n",
        "imputer = SimpleImputer(strategy='mean')\n",
        "df_imputed = pd.DataFrame(imputer.fit_transform(boston_df), columns=boston_df.columns)\n",
        "\n",
        "# Extract features and outcomes\n",
        "boston_X = df_imputed.drop('MEDV', axis=1)\n",
        "boston_y = df_imputed['MEDV']\n",
        "\n",
        "# Split data\n",
        "X_train, X_test, y_train, y_test = train_test_split(boston_X, boston_y, test_size=0.2)"
      ],
      "metadata": {
        "id": "wvXWj1Wt0sfT"
      },
      "execution_count": 8,
      "outputs": []
    },
    {
      "cell_type": "code",
      "source": [
        "from sklearn.model_selection import GridSearchCV, cross_val_score\n",
        "from sklearn.ensemble import RandomForestRegressor, GradientBoostingRegressor, AdaBoostRegressor\n",
        "from sklearn.linear_model import LinearRegression\n",
        "from sklearn.neighbors import KNeighborsRegressor\n",
        "from sklearn.svm import SVR\n",
        "from sklearn.metrics import mean_squared_error\n",
        "import numpy as np\n",
        "\n",
        "# Define regressors\n",
        "regressors = {\n",
        "    'Random Forest': RandomForestRegressor(),\n",
        "    'SVR': SVR(),\n",
        "    'K-Nearest Neighbors': KNeighborsRegressor(),\n",
        "    'Linear Regression': LinearRegression(),\n",
        "    'Gradient Boosting': GradientBoostingRegressor(),\n",
        "    'AdaBoost': AdaBoostRegressor()\n",
        "}\n",
        "\n",
        "# Define hyperparameter grids for each regressor\n",
        "param_grids = {\n",
        "    'Random Forest': {'n_estimators': [50, 100, 150], 'max_depth': [None, 10, 20, 30]},\n",
        "    'SVR': {'C': [0.1, 1, 10], 'kernel': ['linear', 'rbf']},\n",
        "    'K-Nearest Neighbors': {'n_neighbors': [3, 5, 7], 'weights': ['uniform', 'distance']},\n",
        "    'Linear Regression': {'fit_intercept': [True, False], 'positive': [True, False], 'copy_X': [True, False], 'n_jobs': [None, -1]},\n",
        "    'Gradient Boosting': {'n_estimators': [50, 100, 150], 'learning_rate': [0.01, 0.1, 0.2]},\n",
        "    'AdaBoost': {'n_estimators': [50, 100, 150], 'learning_rate': [0.01, 0.1, 0.2]}\n",
        "}\n",
        "\n",
        "# Dictionary to store the best models\n",
        "best_models = {}\n",
        "\n",
        "# Perform GridSearchCV and cross-validation on each regressor\n",
        "for regressor_name, regressor in regressors.items():\n",
        "    grid_search = GridSearchCV(regressor, param_grids[regressor_name], cv=5, scoring='neg_mean_squared_error', n_jobs=-1)\n",
        "\n",
        "    # fit to training dataset\n",
        "    # grid_search.fit(X_train, y_train)\n",
        "    grid_search.fit(X_train, y_train)\n",
        "\n",
        "    # Get the best model from Grid Search\n",
        "    best_model = grid_search.best_estimator_\n",
        "\n",
        "    # Perform cross-validation\n",
        "    # cv_scores = cross_val_score(best_model, X, y, cv=5, scoring='neg_mean_squared_error', n_jobs=-1)\n",
        "    cv_scores = cross_val_score(best_model, boston_X, boston_y, cv=5, scoring='neg_mean_squared_error', n_jobs=-1)\n",
        "\n",
        "    # Store the best model in the dictionary\n",
        "    best_models[regressor_name] = {\n",
        "        'model': best_model,\n",
        "        'cross_val_scores': cv_scores,\n",
        "        'mean_mse': np.mean(cv_scores),\n",
        "        'best_parameters': grid_search.best_params_\n",
        "    }\n",
        "\n",
        "# Select the best model based on mean cross-validation MSE\n",
        "best_regressor = min(best_models, key=lambda k: best_models[k]['mean_mse'])\n",
        "\n",
        "# Print information about the best regressor\n",
        "print(f\"Best Regressor: {best_regressor}\")\n",
        "print(f\"Cross-Validation Mean MSE: {best_models[best_regressor]['mean_mse']:.4f}\")\n",
        "print(f\"Best Parameters: {best_models[best_regressor]['best_parameters']}\")"
      ],
      "metadata": {
        "colab": {
          "base_uri": "https://localhost:8080/"
        },
        "id": "khH9rdTQ8jam",
        "outputId": "6222c455-5591-4112-8909-c3be2af08336"
      },
      "execution_count": 10,
      "outputs": [
        {
          "output_type": "stream",
          "name": "stdout",
          "text": [
            "Best Regressor: K-Nearest Neighbors\n",
            "Cross-Validation Mean MSE: -75.9860\n",
            "Best Parameters: {'n_neighbors': 7, 'weights': 'distance'}\n"
          ]
        }
      ]
    }
  ]
}